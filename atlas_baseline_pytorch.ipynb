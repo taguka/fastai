{
  "nbformat": 4,
  "nbformat_minor": 0,
  "metadata": {
    "colab": {
      "name": "atlas_baseline_pytorch.ipynb",
      "version": "0.3.2",
      "provenance": [],
      "collapsed_sections": [],
      "include_colab_link": true
    },
    "kernelspec": {
      "name": "python3",
      "display_name": "Python 3"
    },
    "accelerator": "GPU"
  },
  "cells": [
    {
      "cell_type": "markdown",
      "metadata": {
        "id": "view-in-github",
        "colab_type": "text"
      },
      "source": [
        "<a href=\"https://colab.research.google.com/github/taguka/fastai/blob/master/atlas_baseline_pytorch.ipynb\" target=\"_parent\"><img src=\"https://colab.research.google.com/assets/colab-badge.svg\" alt=\"Open In Colab\"/></a>"
      ]
    },
    {
      "metadata": {
        "id": "UNW3BJeenJwe",
        "colab_type": "code",
        "colab": {}
      },
      "cell_type": "code",
      "source": [
        "!pip install iterative-stratification"
      ],
      "execution_count": 0,
      "outputs": []
    },
    {
      "metadata": {
        "id": "fciUn9_Nih3A",
        "colab_type": "code",
        "colab": {}
      },
      "cell_type": "code",
      "source": [
        "!pip install fastai"
      ],
      "execution_count": 0,
      "outputs": []
    },
    {
      "metadata": {
        "id": "59inr_jyHPDh",
        "colab_type": "code",
        "colab": {
          "base_uri": "https://localhost:8080/",
          "height": 34
        },
        "outputId": "caaf3b18-4533-4235-cb9c-91587bbcdf82"
      },
      "cell_type": "code",
      "source": [
        "# Install a Drive FUSE wrapper.\n",
        "# https://github.com/astrada/google-drive-ocamlfuse\n",
        "!apt-get install -y -qq software-properties-common python-software-properties module-init-tools\n",
        "!add-apt-repository -y ppa:alessandro-strada/ppa 2>&1 > /dev/null\n",
        "!apt-get update -qq 2>&1 > /dev/null\n",
        "!apt-get -y install -qq google-drive-ocamlfuse fuse"
      ],
      "execution_count": 4,
      "outputs": [
        {
          "output_type": "stream",
          "text": [
            "E: Package 'python-software-properties' has no installation candidate\n"
          ],
          "name": "stdout"
        }
      ]
    },
    {
      "metadata": {
        "id": "-YLYob5tHbYa",
        "colab_type": "code",
        "colab": {}
      },
      "cell_type": "code",
      "source": [
        "# Generate auth tokens for Colab\n",
        "from google.colab import auth\n",
        "auth.authenticate_user()\n",
        "from google.colab import drive\n",
        "drive.mount('/content/gdrive')"
      ],
      "execution_count": 0,
      "outputs": []
    },
    {
      "metadata": {
        "id": "N-96IaVBHkNO",
        "colab_type": "code",
        "colab": {}
      },
      "cell_type": "code",
      "source": [
        "# Generate creds for the Drive FUSE library.\n",
        "from oauth2client.client import GoogleCredentials\n",
        "creds = GoogleCredentials.get_application_default()\n",
        "import getpass\n",
        "!google-drive-ocamlfuse -headless -id={creds.client_id} -secret={creds.client_secret} < /dev/null 2>&1 | grep URL\n",
        "vcode = getpass.getpass()\n",
        "!echo {vcode} | google-drive-ocamlfuse -headless -id={creds.client_id} -secret={creds.client_secret}"
      ],
      "execution_count": 0,
      "outputs": []
    },
    {
      "metadata": {
        "id": "30M1bfKTHrAq",
        "colab_type": "code",
        "colab": {}
      },
      "cell_type": "code",
      "source": [
        "!mkdir -p drive\n",
        "!google-drive-ocamlfuse drive"
      ],
      "execution_count": 0,
      "outputs": []
    },
    {
      "metadata": {
        "id": "QKTIgdpRHx5T",
        "colab_type": "code",
        "colab": {}
      },
      "cell_type": "code",
      "source": [
        "# http://pytorch.org/\n",
        "!pip3 install https://download.pytorch.org/whl/cu80/torch-1.0.0-cp36-cp36m-linux_x86_64.whl"
      ],
      "execution_count": 0,
      "outputs": []
    },
    {
      "metadata": {
        "id": "w0XLIC_91XHm",
        "colab_type": "code",
        "colab": {}
      },
      "cell_type": "code",
      "source": [
        "!pip install pretrainedmodels"
      ],
      "execution_count": 0,
      "outputs": []
    },
    {
      "metadata": {
        "id": "zr22BucoorXx",
        "colab_type": "code",
        "outputId": "dfa1a881-43e1-41d8-eb1b-3e46b8b6cc23",
        "colab": {
          "base_uri": "https://localhost:8080/",
          "height": 102
        }
      },
      "cell_type": "code",
      "source": [
        "!pip3 install kaggle\n",
        "from googleapiclient.discovery import build\n",
        "import io, os\n",
        "from googleapiclient.http import MediaIoBaseDownload\n",
        "\n",
        "drive_service = build('drive', 'v3')\n",
        "results = drive_service.files().list(\n",
        "        q=\"name = 'kaggle.json'\", fields=\"files(id)\").execute()\n",
        "kaggle_api_key = results.get('files', [])\n",
        "filename = \"/content/.kaggle/kaggle.json\"\n",
        "os.makedirs(os.path.dirname(filename), exist_ok=True)\n",
        "request = drive_service.files().get_media(fileId=kaggle_api_key[0]['id'])\n",
        "fh = io.FileIO(filename, 'wb')\n",
        "downloader = MediaIoBaseDownload(fh, request)\n",
        "done = False\n",
        "while done is False:\n",
        "    status, done = downloader.next_chunk()\n",
        "    print(\"Download %d%%.\" % int(status.progress() * 100))\n",
        "os.chmod(filename, 600)\n",
        "!mkdir ~/.kaggle\n",
        "!cp /content/.kaggle/kaggle.json ~/.kaggle/kaggle.json\n",
        "\n",
        "\n",
        "\n",
        "!kaggle competitions download -c human-protein-atlas-image-classification\n",
        "!unzip -qq train.zip -d train | awk 'BEGIN {ORS=\" \"} {if(NR%500==0) print \".\"}'\n",
        "!unzip -qq test.zip -d test | awk 'BEGIN {ORS=\" \"} {if(NR%500==0) print \".\"}'\n",
        "!rm test.zip\n",
        "!rm train.zip"
      ],
      "execution_count": 18,
      "outputs": [
        {
          "output_type": "stream",
          "text": [
            "100% 4.37G/4.37G [00:31<00:00, 178MB/s]\n",
            "100% 4.37G/4.37G [00:31<00:00, 148MB/s]\n",
            "Downloading train.zip to /content\n",
            "100% 13.1G/13.1G [01:39<00:00, 161MB/s]\n",
            "100% 13.1G/13.1G [01:39<00:00, 142MB/s]\n"
          ],
          "name": "stdout"
        }
      ]
    },
    {
      "metadata": {
        "id": "aEk78XNHwfq5",
        "colab_type": "code",
        "outputId": "57979abc-395c-4be9-c096-068d60624ce9",
        "colab": {
          "base_uri": "https://localhost:8080/",
          "height": 34
        }
      },
      "cell_type": "code",
      "source": [
        "!ls drive"
      ],
      "execution_count": 17,
      "outputs": [
        {
          "output_type": "stream",
          "text": [
            " atlas\t'Colab Notebooks'   external_data.zip   Labels.csv\n"
          ],
          "name": "stdout"
        }
      ]
    },
    {
      "metadata": {
        "id": "g-dvBcmzmwBg",
        "colab_type": "code",
        "colab": {}
      },
      "cell_type": "code",
      "source": [
        "import os\n",
        "import sys \n",
        "import json\n",
        "import torch\n",
        "import shutil\n",
        "import numpy as np \n",
        "from torch import nn\n",
        "import torch.nn.functional as F \n",
        "from torch.autograd import Variable\n",
        "from PIL import Image\n",
        "from torch.utils.data import Dataset\n",
        "from torchvision import transforms as T\n",
        "from sklearn.preprocessing import MultiLabelBinarizer\n",
        "from imgaug import augmenters as iaa\n",
        "from iterstrat.ml_stratifiers import MultilabelStratifiedShuffleSplit\n",
        "import pathlib\n",
        "import time \n",
        "import random \n",
        "import warnings\n",
        "import torchvision\n",
        "import pandas as pd \n",
        "from tqdm import tqdm \n",
        "from datetime import datetime\n",
        "from torch import nn,optim\n",
        "from collections import OrderedDict\n",
        "from torch.autograd import Variable\n",
        "from torch.utils.data import DataLoader\n",
        "from torch.optim import lr_scheduler\n",
        "from sklearn.model_selection import train_test_split\n",
        "from timeit import default_timer as timer\n",
        "from sklearn.metrics import f1_score\n",
        "import collections\n",
        "from torchvision import models\n",
        "from pretrainedmodels.models import bninception\n",
        "from collections import OrderedDict\n",
        "import cv2"
      ],
      "execution_count": 0,
      "outputs": []
    },
    {
      "metadata": {
        "id": "I4FH8NCbK1pL",
        "colab_type": "code",
        "outputId": "6fb96da5-9650-43cf-b041-e6266b6ba010",
        "colab": {
          "base_uri": "https://localhost:8080/",
          "height": 34
        }
      },
      "cell_type": "code",
      "source": [
        "torch.cuda.get_device_name(0)"
      ],
      "execution_count": 8,
      "outputs": [
        {
          "output_type": "execute_result",
          "data": {
            "text/plain": [
              "'Tesla K80'"
            ]
          },
          "metadata": {
            "tags": []
          },
          "execution_count": 8
        }
      ]
    },
    {
      "metadata": {
        "id": "kAaeQVKmwsEd",
        "colab_type": "code",
        "colab": {}
      },
      "cell_type": "code",
      "source": [
        "DRIVE='/content/gdrive/My Drive/atlas'"
      ],
      "execution_count": 0,
      "outputs": []
    },
    {
      "metadata": {
        "id": "_RDo2vBA-p6c",
        "colab_type": "code",
        "colab": {}
      },
      "cell_type": "code",
      "source": [
        "!ls '/content/gdrive/My Drive/atlas'"
      ],
      "execution_count": 0,
      "outputs": []
    },
    {
      "metadata": {
        "id": "PDODDcNwoKuu",
        "colab_type": "code",
        "colab": {}
      },
      "cell_type": "code",
      "source": [
        "class DefaultConfigs(object):\n",
        "    train_data = 'train/' # where is your train data\n",
        "    test_data = 'test/'   # your test data\n",
        "    weights = os.path.join(DRIVE, 'checkpoints/')\n",
        "    best_models = os.path.join(DRIVE, 'checkpoints','best_models/')\n",
        "    submit = 'submit/'\n",
        "    model_name = 'bninception_bcelog'\n",
        "    num_classes = 28\n",
        "    img_weight = 512\n",
        "    img_height = 512\n",
        "    channels = 3\n",
        "    lr = 0.03\n",
        "    batch_size = 8\n",
        "    epochs = 50\n",
        "\n",
        "config = DefaultConfigs()"
      ],
      "execution_count": 0,
      "outputs": []
    },
    {
      "metadata": {
        "id": "Ywhn3a6_zSCb",
        "colab_type": "code",
        "colab": {}
      },
      "cell_type": "code",
      "source": [
        "def get_net():\n",
        "    model = bninception(pretrained=\"imagenet\")\n",
        "    model.global_pool = nn.AdaptiveAvgPool2d(1)\n",
        "    model.conv1_7x7_s2 = nn.Conv2d(config.channels, 64, kernel_size=(7, 7), stride=(2, 2), padding=(3, 3))\n",
        "    model.last_linear = nn.Sequential(\n",
        "                nn.BatchNorm1d(1024),\n",
        "                nn.Dropout(0.5),\n",
        "                nn.Linear(1024, config.num_classes),\n",
        "            )\n",
        "    return model"
      ],
      "execution_count": 0,
      "outputs": []
    },
    {
      "metadata": {
        "id": "EYB6_MejEkob",
        "colab_type": "code",
        "colab": {}
      },
      "cell_type": "code",
      "source": [
        "def save_checkpoint(state, is_best_loss,is_best_f1,fold):\n",
        "    filename = config.weights + config.model_name + os.sep +str(fold) + os.sep + \"checkpoint.pth.tar\"\n",
        "    torch.save(state, filename)\n",
        "    if is_best_loss:\n",
        "        shutil.copyfile(filename,\"%s/%s_fold_%s_model_best_loss.pth.tar\"%(config.best_models,config.model_name,str(fold)))\n",
        "    if is_best_f1:\n",
        "        shutil.copyfile(filename,\"%s/%s_fold_%s_model_best_f1.pth.tar\"%(config.best_models,config.model_name,str(fold)))"
      ],
      "execution_count": 0,
      "outputs": []
    },
    {
      "metadata": {
        "id": "P7u_u5R4VbbX",
        "colab_type": "code",
        "colab": {}
      },
      "cell_type": "code",
      "source": [
        "def rotate(img):\n",
        "    rows = img.shape[0]\n",
        "    cols = img.shape[1]\n",
        "    angle = np.random.choice((10, 20, 30))#, 40, 50, 60, 70, 80, 90))\n",
        "    rotation_M = cv2.getRotationMatrix2D((cols / 2, rows / 2), angle, 1)\n",
        "    img = cv2.warpAffine(img, rotation_M, (cols, rows))\n",
        "    return img\n",
        "\n",
        "def rotate_bound(image, size):\n",
        "    #credits http://www.pyimagesearch.com/2017/01/02/rotate-images-correctly-with-opencv-and-python/\n",
        "    (h, w) = image.shape[:2]\n",
        "    (cX, cY) = (w // 2, h // 2)\n",
        "\n",
        "    angle = np.random.randint(10,180)\n",
        "\n",
        "    M = cv2.getRotationMatrix2D((cX, cY), -angle, 1.0)\n",
        "    cos = np.abs(M[0, 0])\n",
        "    sin = np.abs(M[0, 1])\n",
        "\n",
        "    # compute the new bounding dimensions of the image\n",
        "    nW = int((h * sin) + (w * cos))\n",
        "    nH = int((h * cos) + (w * sin))\n",
        "\n",
        "    # adjust the rotation matrix to take into account translation\n",
        "    M[0, 2] += (nW / 2) - cX\n",
        "    M[1, 2] += (nH / 2) - cY\n",
        "\n",
        "    output = cv2.resize(cv2.warpAffine(image, M, (nW, nH)), (size, size))\n",
        "    return output\n",
        "\n",
        "def perspective(img):\n",
        "    rows = img.shape[0]\n",
        "    cols = img.shape[1]\n",
        "\n",
        "    shrink_ratio1 = np.random.randint(low=85, high=110, dtype=int) / 100\n",
        "    shrink_ratio2 = np.random.randint(low=85, high=110, dtype=int) / 100\n",
        "\n",
        "    zero_point = rows - np.round(rows * shrink_ratio1, 0)\n",
        "    max_point_row = np.round(rows * shrink_ratio1, 0)\n",
        "    max_point_col = np.round(cols * shrink_ratio2, 0)\n",
        "\n",
        "    src = np.float32([[zero_point, zero_point], [max_point_row-1, zero_point], [zero_point, max_point_col+1], [max_point_row-1, max_point_col+1]])\n",
        "    dst = np.float32([[0, 0], [rows, 0], [0, cols], [rows, cols]])\n",
        "\n",
        "    perspective_M = cv2.getPerspectiveTransform(src, dst)\n",
        "\n",
        "    img = cv2.warpPerspective(img, perspective_M, (cols,rows))#, borderValue=mean_pix)\n",
        "    return img\n",
        "\n",
        "def shift(img):\n",
        "    rows = img.shape[0]\n",
        "    cols = img.shape[1]\n",
        "\n",
        "    shift_ratio1 = (random.random() * 2 - 1) * np.random.randint(low=3, high=15, dtype=int)\n",
        "    shift_ratio2 = (random.random() * 2 - 1) * np.random.randint(low=3, high=15, dtype=int)\n",
        "\n",
        "    shift_M = np.float32([[1,0,shift_ratio1], [0,1,shift_ratio2]])\n",
        "    img = cv2.warpAffine(img, shift_M, (cols, rows))#, borderValue=mean_pix)\n",
        "    return img"
      ],
      "execution_count": 0,
      "outputs": []
    },
    {
      "metadata": {
        "id": "IyVAlAz8x6C5",
        "colab_type": "code",
        "colab": {}
      },
      "cell_type": "code",
      "source": [
        "random.seed(1979)\n",
        "np.random.seed(1979)\n",
        "torch.manual_seed(1979)\n",
        "torch.cuda.manual_seed_all(1979)\n",
        "\n",
        "# create dataset class\n",
        "class HumanDataset(Dataset):\n",
        "    def __init__(self,images_df,base_path,augument=True,mode=\"train\"):\n",
        "        if not isinstance(base_path, pathlib.Path):\n",
        "            base_path = pathlib.Path(base_path)\n",
        "        self.images_df = images_df.copy()\n",
        "        self.augument = augument\n",
        "        self.images_df.Id = self.images_df.Id.apply(lambda x:base_path / x)\n",
        "        self.mlb = MultiLabelBinarizer(classes = np.arange(0,config.num_classes))\n",
        "        self.mlb.fit(np.arange(0,config.num_classes))\n",
        "        self.mode = mode\n",
        "\n",
        "    def __len__(self):\n",
        "        return len(self.images_df)\n",
        "\n",
        "    def __getitem__(self,index):\n",
        "        X = self.read_images(index)\n",
        "        if not self.mode == \"test\":\n",
        "            labels = np.array(list(map(int, self.images_df.iloc[index].Target.split(' '))))\n",
        "            y  = np.eye(config.num_classes,dtype=np.float)[labels].sum(axis=0)\n",
        "        else:\n",
        "            y = str(self.images_df.iloc[index].Id.absolute())\n",
        "        if self.augument:\n",
        "            X = self.augumentor(X)\n",
        "        #X = T.Compose([T.ToPILImage(),T.ToTensor(),T.Normalize([0.08069, 0.05258, 0.05487, 0.08282], [0.13704, 0.10145, 0.15313, 0.13814])])(X)\n",
        "        X = T.Compose([T.ToPILImage(),T.ToTensor()])(X)\n",
        "        return X.float(),y\n",
        "\n",
        "\n",
        "    def read_images(self,index):\n",
        "        row = self.images_df.iloc[index]\n",
        "        filename = str(row.Id.absolute())\n",
        "        #use only rgb channels\n",
        "        if config.channels == 4:\n",
        "            images = np.zeros(shape=(512,512,4))\n",
        "        else:\n",
        "            images = np.zeros(shape=(512,512,3))\n",
        "        r = np.array(Image.open(filename+\"_red.png\")) \n",
        "        g = np.array(Image.open(filename+\"_green.png\")) \n",
        "        b = np.array(Image.open(filename+\"_blue.png\")) \n",
        "        y = np.array(Image.open(filename+\"_yellow.png\")) \n",
        "        images[:,:,0] = r.astype(np.uint8) \n",
        "        images[:,:,1] = g.astype(np.uint8)\n",
        "        images[:,:,2] = b.astype(np.uint8)\n",
        "        if config.channels == 4:\n",
        "            images[:,:,3] = y.astype(np.uint8)\n",
        "        images = images.astype(np.uint8)\n",
        "        #images = np.stack(images,-1) \n",
        "        if config.img_height == 512:\n",
        "            return images\n",
        "        else:\n",
        "            return cv2.resize(images,(config.img_weight,config.img_height))\n",
        "    \n",
        "    def augumentor(self,image):\n",
        "        rnd_flip = np.random.randint(2, dtype=int)\n",
        "        rnd_rotate = np.random.randint(2, dtype=int)\n",
        "        rnd_zoom = np.random.randint(2, dtype=int)\n",
        "        rnd_shift = np.random.randint(2, dtype=int)\n",
        "\n",
        "        if (rnd_flip == 1):\n",
        "          rnd_flip = np.random.randint(3, dtype=int) - 1\n",
        "          image = cv2.flip(image, rnd_flip)\n",
        "\n",
        "        if (rnd_rotate == 1):\n",
        "          image = rotate_bound(image, config.img_weight)\n",
        "\n",
        "        if (rnd_zoom == 1):\n",
        "          image = perspective(image)\n",
        "\n",
        "        if (rnd_shift == 1):\n",
        "          image = shift(image)\n",
        "        return image\n"
      ],
      "execution_count": 0,
      "outputs": []
    },
    {
      "metadata": {
        "id": "p4nx7cnwW9Si",
        "colab_type": "code",
        "colab": {}
      },
      "cell_type": "code",
      "source": [
        "'''\n",
        "    def augumentor(self,image):\n",
        "        augment_img = iaa.Sequential([\n",
        "            iaa.OneOf([\n",
        "                iaa.Affine(rotate=90),\n",
        "                iaa.Affine(rotate=180),\n",
        "                iaa.Affine(rotate=270),\n",
        "                iaa.Affine(shear=(-16, 16)),\n",
        "                iaa.Fliplr(0.5),\n",
        "                iaa.Flipud(0.5),\n",
        "                \n",
        "            ])], random_order=True)\n",
        "        \n",
        "        image_aug = augment_img.augment_image(image)\n",
        "        return image_aug"
      ],
      "execution_count": 0,
      "outputs": []
    },
    {
      "metadata": {
        "id": "Gf1t-BgOzq_e",
        "colab_type": "code",
        "colab": {}
      },
      "cell_type": "code",
      "source": [
        "class Logger(object):\n",
        "    def __init__(self):\n",
        "        self.terminal = sys.stdout  #stdout\n",
        "        self.file = None\n",
        "\n",
        "    def open(self, file, mode=None):\n",
        "        if mode is None: mode ='w'\n",
        "        self.file = open(file, mode)\n",
        "\n",
        "    def write(self, message, is_terminal=1, is_file=1 ):\n",
        "        if '\\r' in message: is_file=0\n",
        "\n",
        "        if is_terminal == 1:\n",
        "            self.terminal.write(message)\n",
        "            self.terminal.flush()\n",
        "            #time.sleep(1)\n",
        "\n",
        "        if is_file == 1:\n",
        "            self.file.write(message)\n",
        "            self.file.flush()\n",
        "\n",
        "    def flush(self):\n",
        "        # this flush method is needed for python 3 compatibility.\n",
        "        # this handles the flush command by doing nothing.\n",
        "        # you might want to specify some extra behavior here.\n",
        "        pass"
      ],
      "execution_count": 0,
      "outputs": []
    },
    {
      "metadata": {
        "id": "ns-biH1zz94e",
        "colab_type": "code",
        "colab": {}
      },
      "cell_type": "code",
      "source": [
        "# evaluate meters\n",
        "class AverageMeter(object):\n",
        "    \"\"\"Computes and stores the average and current value\"\"\"\n",
        "    def __init__(self):\n",
        "        self.reset()\n",
        "\n",
        "    def reset(self):\n",
        "        self.val = 0\n",
        "        self.avg = 0\n",
        "        self.sum = 0\n",
        "        self.count = 0\n",
        "\n",
        "    def update(self, val, n=1):\n",
        "        self.val = val\n",
        "        self.sum += val * n\n",
        "        self.count += n\n",
        "        self.avg = self.sum / self.count"
      ],
      "execution_count": 0,
      "outputs": []
    },
    {
      "metadata": {
        "id": "en51O5NN0Cp5",
        "colab_type": "code",
        "colab": {}
      },
      "cell_type": "code",
      "source": [
        "class FocalLoss(nn.Module):\n",
        "    def __init__(self, alpha=0.25,gamma=2):\n",
        "        super(FocalLoss, self).__init__()\n",
        "        self.alpha = alpha\n",
        "        self.gamma = gamma\n",
        "\n",
        "    def forward(self, x, y):\n",
        "        '''Focal loss.\n",
        "        Args:\n",
        "          x: (tensor) sized [N,D].\n",
        "          y: (tensor) sized [N,].\n",
        "        Return:\n",
        "          (tensor) focal loss.\n",
        "        '''\n",
        "        t = Variable(y).cuda()  # [N,20]\n",
        "\n",
        "        p = x.sigmoid()\n",
        "        pt = p*t + (1-p)*(1-t)         # pt = p if t > 0 else 1-p\n",
        "        w = self.alpha*t + (1-self.alpha)*(1-t)  # w = alpha if t > 0 else 1-alpha\n",
        "        w = w * (1-pt).pow(self.gamma)\n",
        "        return F.binary_cross_entropy_with_logits(x, t, w, size_average=False)"
      ],
      "execution_count": 0,
      "outputs": []
    },
    {
      "metadata": {
        "id": "EAVQaUbw0JAy",
        "colab_type": "code",
        "colab": {}
      },
      "cell_type": "code",
      "source": [
        "def get_learning_rate(optimizer):\n",
        "    lr=[]\n",
        "    for param_group in optimizer.param_groups:\n",
        "       lr +=[ param_group['lr'] ]\n",
        "\n",
        "    #assert(len(lr)==1) #we support only one param_group\n",
        "    lr = lr[0]\n",
        "\n",
        "    return lr\n",
        "\n",
        "def time_to_str(t, mode='min'):\n",
        "    if mode=='min':\n",
        "        t  = int(t)/60\n",
        "        hr = t//60\n",
        "        min = t%60\n",
        "        return '%2d hr %02d min'%(hr,min)\n",
        "\n",
        "    elif mode=='sec':\n",
        "        t   = int(t)\n",
        "        min = t//60\n",
        "        sec = t%60\n",
        "        return '%2d min %02d sec'%(min,sec)\n",
        "\n",
        "\n",
        "    else:\n",
        "        raise NotImplementedError"
      ],
      "execution_count": 0,
      "outputs": []
    },
    {
      "metadata": {
        "id": "lk9tMF7Sywxx",
        "colab_type": "code",
        "colab": {}
      },
      "cell_type": "code",
      "source": [
        "\n",
        "def train(train_loader,model,criterion,optimizer,epoch,valid_loss,best_results,start):\n",
        "    losses = AverageMeter()\n",
        "    f1 = AverageMeter()\n",
        "    model.train()\n",
        "      \n",
        "    for i,(images,target) in enumerate(train_loader):\n",
        "      images = images.cuda(non_blocking=True)\n",
        "      target = torch.from_numpy(np.array(target)).float().cuda(non_blocking=True)\n",
        "      # compute output\n",
        "      output = model(images)\n",
        "      loss = criterion(output,target)\n",
        "      losses.update(loss.item(),images.size(0))\n",
        "\n",
        "      f1_batch = f1_score(target.cpu(),output.sigmoid().cpu() > 0.2,average='macro')    \n",
        "      f1.update(f1_batch,images.size(0))\n",
        "      optimizer.zero_grad()\n",
        "      loss.backward()\n",
        "      optimizer.step()\n",
        "      print('\\r',end='',flush=True)\n",
        "      message = '%s %5.5f %6.1f         |         %0.3f  %0.3f           |         %0.3f  %0.4f         |         %s  %s    | %s' % (\\\n",
        "                \"train\", i/len(train_loader), epoch,\n",
        "                losses.avg, f1.avg, \n",
        "                valid_loss[0], valid_loss[1], \n",
        "                str(best_results[0])[:8],str(best_results[1])[:8],\n",
        "                time_to_str((timer() - start),'min'))\n",
        "      print(message , end='',flush=True)\n",
        "    log.write(\"\\n\")\n",
        "#    log.write(message)\n",
        "#    log.write(\"\\n\")\n",
        "    return [losses.avg,f1.avg]"
      ],
      "execution_count": 0,
      "outputs": []
    },
    {
      "metadata": {
        "id": "wjfiwjVXz2Ma",
        "colab_type": "code",
        "colab": {}
      },
      "cell_type": "code",
      "source": [
        "# 2. evaluate function\n",
        "def evaluate(val_loader,model,criterion,epoch,train_loss,best_results,start):\n",
        "    # only meter loss and f1 score\n",
        "    losses = AverageMeter()\n",
        "    f1 = AverageMeter()\n",
        "    # switch mode for evaluation\n",
        "    model.cuda()\n",
        "    model.eval()\n",
        "    with torch.no_grad():\n",
        "        for i, (images,target) in enumerate(val_loader):\n",
        "            images_var = images.cuda(non_blocking=True)\n",
        "            target = torch.from_numpy(np.array(target)).float().cuda(non_blocking=True)\n",
        "            #image_var = Variable(images).cuda()\n",
        "            #target = Variable(torch.from_numpy(np.array(target)).long()).cuda()\n",
        "            output = model(images_var)\n",
        "            loss = criterion(output,target)\n",
        "            losses.update(loss.item(),images_var.size(0))\n",
        "            f1_batch = f1_score(target.cpu(),output.sigmoid().cpu().data.numpy() > 0.2,average='macro')\n",
        "            f1.update(f1_batch,images_var.size(0))\n",
        "            print('\\r',end='',flush=True)\n",
        "            message = '%s   %5.1f %6.1f         |         %0.3f  %0.3f           |         %0.3f  %0.4f         |         %s  %s    | %s' % (\\\n",
        "                    \"val\", i , epoch,                    \n",
        "                    train_loss[0], train_loss[1], \n",
        "                    losses.avg, f1.avg,\n",
        "                    str(best_results[0])[:8],str(best_results[1])[:8],\n",
        "                    time_to_str((timer() - start),'min'))\n",
        "\n",
        "            print(message, end='',flush=True)\n",
        "        log.write(\"\\n\")\n",
        "#        log.write(message)\n",
        "#        log.write(\"\\n\")\n",
        "        \n",
        "    return [losses.avg,f1.avg]\n"
      ],
      "execution_count": 0,
      "outputs": []
    },
    {
      "metadata": {
        "id": "vqcjjPYj0Q2c",
        "colab_type": "code",
        "colab": {}
      },
      "cell_type": "code",
      "source": [
        "# 3. test model on public dataset and save the probability matrix\n",
        "def test(test_loader,model,folds):\n",
        "    sample_submission_df = pd.read_csv('sample_submission.csv')\n",
        "    #3.1 confirm the model converted to cuda\n",
        "    filenames,labels ,submissions= [],[],[]\n",
        "    model.cuda()\n",
        "    model.eval()\n",
        "    submit_results = []\n",
        "    for i,(input,filepath) in enumerate(tqdm(test_loader)):\n",
        "        #3.2 change everything to cuda and get only basename\n",
        "        filepath = [os.path.basename(x) for x in filepath]\n",
        "        with torch.no_grad():\n",
        "            image_var = input.cuda(non_blocking=True)\n",
        "            y_pred = model(image_var)\n",
        "            label = y_pred.sigmoid().cpu().data.numpy()\n",
        "            #print(label > 0.5)\n",
        "           \n",
        "            labels.append(label > 0.2)\n",
        "            filenames.append(filepath)\n",
        "\n",
        "    for row in np.concatenate(labels):\n",
        "        subrow = ' '.join(list([str(i) for i in np.nonzero(row)[0]]))\n",
        "        submissions.append(subrow)\n",
        "    sample_submission_df['Predicted'] = submissions\n",
        "    sample_submission_df.to_csv('submit/%s_bestloss_submission.csv'%config.model_name, index=None)"
      ],
      "execution_count": 0,
      "outputs": []
    },
    {
      "metadata": {
        "id": "l_CdbXVF01FQ",
        "colab_type": "code",
        "colab": {}
      },
      "cell_type": "code",
      "source": [
        "# 4. main function\n",
        "def main():\n",
        "    fold = 0\n",
        "    # 4.1 mkdirs\n",
        "    if not os.path.exists(config.submit):\n",
        "        os.makedirs(config.submit)\n",
        "    if not os.path.exists(config.weights + config.model_name + os.sep +str(fold)):\n",
        "        os.makedirs(config.weights + config.model_name + os.sep +str(fold))\n",
        "    if not os.path.exists(config.best_models):\n",
        "        os.mkdir(config.best_models)\n",
        "    if not os.path.exists(os.path.join(DRIVE, 'logs/')):\n",
        "        os.mkdir(os.path.join(DRIVE, 'logs/'))\n",
        "    \n",
        "    # 4.2 get model\n",
        "    model = get_net()\n",
        "    model.cuda()\n",
        "\n",
        "    # criterion\n",
        "#    optimizer = optim.SGD(model.parameters(),lr = config.lr,momentum=0.9,weight_decay=1e-4)\n",
        "    optimizer = optim.Adam(model.parameters(),lr = config.lr,weight_decay=1e-4)\n",
        "    criterion = nn.BCEWithLogitsLoss().cuda()\n",
        "    #criterion = FocalLoss().cuda()\n",
        "    #criterion = F1Loss().cuda()\n",
        "    start_epoch = 0\n",
        "    best_loss = 999\n",
        "    best_f1 = 0\n",
        "    best_results = [np.inf,0]\n",
        "    val_metrics = [np.inf,0]\n",
        "    resume = False\n",
        "    all_files = pd.read_csv('train.csv')\n",
        "    #print(all_files)\n",
        "    test_files = pd.read_csv('sample_submission.csv')  \n",
        "\n",
        "    all_files['Target_binary']=all_files['Target'].apply(lambda x: list(np.eye(28)[list(map(int,x.split(' ')))].sum(axis=0).astype(int)) )\n",
        "    lst_classes=[]\n",
        "    for class_id in all_files.Target.apply(lambda x: x.split(' ')):\n",
        "      lst_classes.extend(class_id)\n",
        "\n",
        "    counter=collections.Counter(lst_classes)\n",
        "    counter=counter.most_common(len(counter))\n",
        "    freq_classes=[class_id[0] for class_id in counter]\n",
        "    all_files['least_class']=all_files['Target'].apply(lambda x: sorted(x.split(' '),key=lambda y: freq_classes.index(y))[-1])\n",
        "    lst_least_class=[]\n",
        "    for class_id in all_files.least_class.apply(lambda x: map(int,x.split(' '))):\n",
        "      lst_least_class.extend(class_id)\n",
        "    counter_least=collections.Counter(lst_least_class)   \n",
        "    class_sample_counts=[counter_least[key] for key in sorted(counter_least.keys())]\n",
        "    class_weights = 1./torch.Tensor(class_sample_counts)\n",
        "\n",
        "    msss = MultilabelStratifiedShuffleSplit(n_splits=1, test_size=0.2, random_state=1979)\n",
        "    X=np.array([item for item in all_files.Id])\n",
        "    y=np.array([item for item in all_files.Target_binary])\n",
        "\n",
        "    for train_index, test_index in msss.split(X, y):\n",
        "      train_data_list=all_files.iloc[train_index]\n",
        "      val_data_list=all_files.iloc[test_index]\n",
        "    # load dataset\n",
        "    train_gen = HumanDataset(train_data_list,config.train_data,mode=\"train\")\n",
        "    val_gen = HumanDataset(val_data_list,config.train_data,augument=False,mode=\"train\")\n",
        "    test_gen = HumanDataset(test_files,config.test_data,augument=False,mode=\"test\")\n",
        "    \n",
        "    # compute weight for all the samples in the dataset\n",
        "    # samples_weights contain the probability for each example in dataset to be sampled  \n",
        "    train_targets = [sample for sample in train_gen.images_df['least_class']]\n",
        "    train_samples_weight = [class_weights[int(class_id)] for class_id in train_targets]\n",
        "    train_sampler = torch.utils.data.sampler.WeightedRandomSampler(train_samples_weight, len(train_gen))\n",
        "\n",
        "    val_targets = [sample for sample in val_gen.images_df['least_class']]\n",
        "    val_samples_weight = [class_weights[int(class_id)] for class_id in val_targets]\n",
        "    val_sampler = torch.utils.data.sampler.WeightedRandomSampler(val_samples_weight, len(val_gen))\n",
        "\n",
        "    train_loader = DataLoader(train_gen,batch_size=config.batch_size,sampler=train_sampler,shuffle=False, pin_memory=True, drop_last=True, num_workers=4)\n",
        "    val_loader = DataLoader(val_gen,batch_size=config.batch_size,sampler=val_sampler, shuffle=False,pin_memory=True,drop_last=True, num_workers=4)\n",
        "    test_loader = DataLoader(test_gen,1,shuffle=False,pin_memory=True,num_workers=4)\n",
        "\n",
        "    scheduler = lr_scheduler.StepLR(optimizer,step_size=10,gamma=0.1)\n",
        "    start = timer()\n",
        "    for epoch in range(0,config.epochs):\n",
        "      scheduler.step(epoch)\n",
        "      # train\n",
        "      lr = get_learning_rate(optimizer)\n",
        "      train_metrics = train(train_loader,model,criterion,optimizer,epoch,val_metrics,best_results,start)\n",
        "      # val\n",
        "      val_metrics = evaluate(val_loader,model,criterion,epoch,train_metrics,best_results,start)\n",
        "      # check results \n",
        "      is_best_loss = val_metrics[0] < best_results[0]\n",
        "      best_results[0] = min(val_metrics[0],best_results[0])\n",
        "      is_best_f1 = val_metrics[1] > best_results[1]\n",
        "      best_results[1] = max(val_metrics[1],best_results[1])   \n",
        "      # save model\n",
        "      save_checkpoint({\n",
        "                    \"epoch\":epoch + 1,\n",
        "                    \"model_name\":config.model_name,\n",
        "                    \"state_dict\":model.state_dict(),\n",
        "                    \"best_loss\":best_results[0],\n",
        "                    \"optimizer\":optimizer.state_dict(),\n",
        "                    \"fold\":fold,\n",
        "                    \"best_f1\":best_results[1],\n",
        "      },is_best_loss,is_best_f1,fold)\n",
        "      # print logs\n",
        "      print('\\r',end='',flush=True)\n",
        "      log.write('%s  %5.1f %6.1f         |         %0.3f  %0.3f           |         %0.3f  %0.4f         |         %s  %s    | %s' % (\\\n",
        "                \"best\", epoch, epoch,                    \n",
        "                train_metrics[0], train_metrics[1], \n",
        "                val_metrics[0], val_metrics[1],\n",
        "                str(best_results[0])[:8],str(best_results[1])[:8],\n",
        "                time_to_str((timer() - start),'min'))\n",
        "               )\n",
        "      log.write(\"\\n\")\n",
        "      time.sleep(0.01)\n",
        "        \n",
        "\n",
        "#    best_model = torch.load(\"%s%s_fold_%s_model_best_loss.pth.tar\"%(config.best_models,config.model_name,str(fold)))\n",
        "    #best_model = torch.load(\"checkpoints/bninception_bcelog/0/checkpoint.pth.tar\")\n",
        "#    model.load_state_dict(best_model[\"state_dict\"])\n",
        "#    test(test_loader,model,fold)\n"
      ],
      "execution_count": 0,
      "outputs": []
    },
    {
      "metadata": {
        "id": "XJwmlXc8GrVV",
        "colab_type": "code",
        "outputId": "81e89579-4c43-4e01-c170-93e8f020c0cc",
        "colab": {
          "base_uri": "https://localhost:8080/",
          "height": 34
        }
      },
      "cell_type": "code",
      "source": [
        "torch.cuda.get_device_name(0)"
      ],
      "execution_count": 23,
      "outputs": [
        {
          "output_type": "execute_result",
          "data": {
            "text/plain": [
              "'Tesla K80'"
            ]
          },
          "metadata": {
            "tags": []
          },
          "execution_count": 23
        }
      ]
    },
    {
      "metadata": {
        "id": "KMwrclMm08-V",
        "colab_type": "code",
        "outputId": "f33c6e4f-65f1-44c6-c212-17b639472a0d",
        "colab": {
          "base_uri": "https://localhost:8080/",
          "height": 136
        }
      },
      "cell_type": "code",
      "source": [
        "if __name__ == \"__main__\":\n",
        "  os.environ[\"CUDA_VISIBLE_DEVICES\"] = \"2\"\n",
        "  torch.backends.cudnn.benchmark = True\n",
        "  warnings.filterwarnings('ignore')\n",
        "\n",
        "  if not os.path.exists(os.path.join(DRIVE,'logs/')):\n",
        "    os.mkdir(os.path.join(DRIVE,'logs/'))\n",
        "\n",
        "  log = Logger()\n",
        "  log.open(os.path.join(DRIVE,'logs',\"%s_log_train.txt\"%config.model_name),mode=\"a\")\n",
        "  log.write(\"\\n----------------------------------------------- [START %s] %s\\n\\n\" % (datetime.now().strftime('%Y-%m-%d %H:%M:%S'), '-' * 51))\n",
        "  log.write('                           |------------ Train -------------|----------- Valid -------------|----------Best Results---------|------------|\\n')\n",
        "  log.write('mode     iter     epoch    |         loss   f1_macro        |         loss   f1_macro       |         loss   f1_macro       | time       |\\n')\n",
        "  log.write('-------------------------------------------------------------------------------------------------------------------------------\\n')\n",
        "  \n",
        "  main()"
      ],
      "execution_count": 0,
      "outputs": [
        {
          "output_type": "stream",
          "text": [
            "\n",
            "----------------------------------------------- [START 2018-12-28 15:13:43] ---------------------------------------------------\n",
            "\n",
            "                           |------------ Train -------------|----------- Valid -------------|----------Best Results---------|------------|\n",
            "mode     iter     epoch    |         loss   f1_macro        |         loss   f1_macro       |         loss   f1_macro       | time       |\n",
            "-------------------------------------------------------------------------------------------------------------------------------\n",
            "train 0.65227    0.0         |         0.268  0.035           |         inf  0.0000         |         inf  0    |  0 hr 17 min"
          ],
          "name": "stdout"
        }
      ]
    },
    {
      "metadata": {
        "id": "FXk4YKeQhvxb",
        "colab_type": "code",
        "outputId": "dd436588-a9ea-4b8e-9714-b621d85f2542",
        "colab": {
          "base_uri": "https://localhost:8080/",
          "height": 34
        }
      },
      "cell_type": "code",
      "source": [
        "print('foo', end='', flush=True)\n",
        "print('XXX')"
      ],
      "execution_count": 0,
      "outputs": [
        {
          "output_type": "stream",
          "text": [
            "fooXXX\n"
          ],
          "name": "stdout"
        }
      ]
    },
    {
      "metadata": {
        "id": "BvWJ9aYDhyRz",
        "colab_type": "code",
        "outputId": "83238b2d-e1f3-4195-913c-3b8f2cf8f94a",
        "colab": {
          "base_uri": "https://localhost:8080/",
          "height": 51
        }
      },
      "cell_type": "code",
      "source": [
        "print('foo')\n",
        "print('XXX')"
      ],
      "execution_count": 0,
      "outputs": [
        {
          "output_type": "stream",
          "text": [
            "foo\n",
            "XXX\n"
          ],
          "name": "stdout"
        }
      ]
    }
  ]
}